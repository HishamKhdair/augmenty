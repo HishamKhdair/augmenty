{
 "cells": [
  {
   "cell_type": "markdown",
   "metadata": {},
   "source": [
    "# Introduction to Augmenty\n",
    "Augmenty is an augmentation library based on spaCy for augmenting texts. Augmenty differs from other augmentation libraries in that it corrects (as far as possible) the token, \n",
    "sentence and document labels under the augmentation."
   ]
  },
  {
   "cell_type": "markdown",
   "metadata": {},
   "source": [
    "## Installations\n",
    "Before we get ahead of ourselves let us just install the required packages:"
   ]
  },
  {
   "cell_type": "code",
   "execution_count": 1,
   "metadata": {},
   "outputs": [],
   "source": [
    "# !pip install augmenty[all]\n",
    "# # install the spacy pipeline\n",
    "# !python -m spacy download en_core_web_sm"
   ]
  },
  {
   "cell_type": "markdown",
   "metadata": {},
   "source": [
    "## Introduction\n",
    "Augmenty is an augmnentation library for spaCy, consisting of many different augmenters. To get an idea of all the available augmenters you can always try out the use:"
   ]
  },
  {
   "cell_type": "code",
   "execution_count": 3,
   "metadata": {},
   "outputs": [
    {
     "name": "stdout",
     "output_type": "stream",
     "text": [
      "spacy.orth_variants.v1\n",
      "spacy.lower_case.v1\n",
      "random_casing.v1\n",
      "char_replace_random.v1\n",
      "char_replace.v1\n",
      "keystroke_error.v1\n",
      "remove_spacing.v1\n",
      "char_swap.v1\n",
      "random_starting_case.v1\n",
      "conditional_token_casing.v1\n",
      "token_replace.v1\n",
      "wordnet_synonym.v1\n",
      "grundtvigian_spacing_augmenter.v1\n",
      "spacing_insertion.v1\n",
      "token_swap.v1\n",
      "ents_replace.v1\n",
      "per_replace.v1\n",
      "ents_format.v1\n",
      "upper_case.v1\n",
      "spongebob.v1\n",
      "da_æøå_replace.v1\n",
      "da_historical_noun_casing.v1\n"
     ]
    }
   ],
   "source": [
    "import augmenty\n",
    "\n",
    "augmenters = augmenty.augmenters()\n",
    "\n",
    "for augmenter in augmenters:\n",
    "    print(augmenter)"
   ]
  },
  {
   "cell_type": "markdown",
   "metadata": {},
   "source": [
    "To get get more information about an individual augmenter you can always simply use `help` for instance let is say you want to know more about the upper case augmenter you could run: `help(augmenters[\"upper_case.v1\"])`."
   ]
  },
  {
   "cell_type": "markdown",
   "metadata": {},
   "source": [
    "After you have an idea about the augmenter you wish to use loading in augmenters in augmenty is made easy using the `load` command given and given the arguments:"
   ]
  },
  {
   "cell_type": "code",
   "execution_count": 4,
   "metadata": {},
   "outputs": [],
   "source": [
    "upper_case_augmenter = augmenty.load(\"upper_case.v1\", level=1.00)  # 100% uppercase"
   ]
  },
  {
   "cell_type": "markdown",
   "metadata": {},
   "source": [
    "# Applying the augmentation\n",
    "Augmenters in augmenty always take in a spaCy [Language pipeline](https://spacy.io/api/language) and an spaCy [Example](https://spacy.io/api/example) so that it can be easily used while training workflows, however, augmenty also allows for easy application of augmenters to raw text and spaCy [Docs](https://spacy.io/api/doc).\n",
    "\n",
    "<br /> \n",
    "\n",
    "<details>\n",
    "  <summary>Why examples and not just raw text?</summary>\n",
    "\n",
    "  A spaCy example consist of two documents, the labelled document, containing all the correct labels including document classification such as whether a tweet is positive or negative and token classiification such as Part-of-speech-tags and named entities. When augmenting the Example augmenty seeks to correct these tags in accordance with the augmentation. As the raw text does not include these labels it as naturally not possible. For instance if I was to swap two tokens I would want to swap their corresponding labels as well. When swapping tokens augmenty even respect entities and sentences as to not split an entity or swap tokens across sentence borders. You can naturally turn this of if you wish to.\n",
    "\n",
    "</details>\n",
    "\n",
    "<br />\n",
    " "
   ]
  },
  {
   "cell_type": "markdown",
   "metadata": {},
   "source": [
    "## Applying augmentations on Docs"
   ]
  },
  {
   "cell_type": "code",
   "execution_count": 5,
   "metadata": {},
   "outputs": [
    {
     "name": "stdout",
     "output_type": "stream",
     "text": [
      "AUGMENTATION IS A WONDERFUL TOOL FOR OBTAINING HIGHER PERFORMANCE ON LIMITED DATA.\n",
      "YOU CAN ALSO USE IT TO SEE HOW ROBUST YOUR MODEL IS TO CHANGES.\n"
     ]
    }
   ],
   "source": [
    "import spacy\n",
    "\n",
    "nlp = spacy.load(\"en_core_web_sm\")\n",
    "docs = nlp.pipe(\n",
    "    [\n",
    "        \"Augmentation is a wonderful tool for obtaining higher performance on limited data.\",\n",
    "        \"You can also use it to see how robust your model is to changes.\",\n",
    "    ]\n",
    ")\n",
    "\n",
    "augmented_docs = augmenty.docs(docs, augmenter=upper_case_augmenter, nlp=nlp)\n",
    "\n",
    "for doc in augmented_docs:\n",
    "    print(doc)"
   ]
  },
  {
   "cell_type": "markdown",
   "metadata": {},
   "source": [
    "## Applying augmentations on text\n",
    "We can also try it out on text. Let us also try out a new augmenter for replacing entities. Remember you can always use `help(augmenters[\"ents_replace.v1\"])` to figure out which inputs the augmenter takes and see and example."
   ]
  },
  {
   "cell_type": "code",
   "execution_count": 6,
   "metadata": {},
   "outputs": [
    {
     "name": "stdout",
     "output_type": "stream",
     "text": [
      "The SpaCy Universe is a wonderful tool for augmentation.\n"
     ]
    }
   ],
   "source": [
    "texts = [\"Augmenty is a wonderful tool for augmentation.\"]\n",
    "\n",
    "ent_augmenter = augmenty.load(\n",
    "    \"ents_replace.v1\", level=1.00, ent_dict={\"ORG\": [[\"SpaCy\"], [\"The SpaCy Universe\"]]}\n",
    ")\n",
    "\n",
    "augmented_texts = augmenty.texts(texts, augmenter=ent_augmenter, nlp=nlp)\n",
    "\n",
    "for text in augmented_texts:\n",
    "    print(text)"
   ]
  },
  {
   "cell_type": "markdown",
   "metadata": {},
   "source": [
    "# Customizing augmenters\n",
    "Augmenty is more than a list of augmenters and also contains utilities for dealing with augmenters such as combining and moderating augmenters. \n",
    "\n",
    "# Combining augmenters\n",
    "We can start of by combing the entity augmenter with an augmenter which replaces words with their synonym based on wordnet."
   ]
  },
  {
   "cell_type": "code",
   "execution_count": 7,
   "metadata": {},
   "outputs": [],
   "source": [
    "synonym_augmenter = augmenty.load(\"wordnet_synonym.v1\", level=1, lang=\"en\")\n",
    "\n",
    "combined_aug = augmenty.combine([ent_augmenter, synonym_augmenter])"
   ]
  },
  {
   "cell_type": "code",
   "execution_count": 8,
   "metadata": {},
   "outputs": [
    {
     "name": "stdout",
     "output_type": "stream",
     "text": [
      "The SpaCy Universe is a tremendous instrument for augmentation.\n"
     ]
    }
   ],
   "source": [
    "augmented_texts = augmenty.texts(texts, augmenter=combined_aug, nlp=nlp)\n",
    "\n",
    "for text in augmented_texts:\n",
    "    print(text)"
   ]
  },
  {
   "cell_type": "markdown",
   "metadata": {},
   "source": [
    "## Moderating Augmenters\n",
    "Certain augmenters apply augmentation at different levels. For instance the augmenter `keystroke_error.v1` augments examples based on keyboard distances, where each character has a chance to be replaced with a neightbouring character. However, we might wish to apply this augmentation to 5% of characters, but only apply it 50% of the training samples. Using `augmenty.set_doc_level` we can add this last part to any augmenter, thus allowing for more flexibility when using the model."
   ]
  },
  {
   "cell_type": "code",
   "execution_count": 9,
   "metadata": {},
   "outputs": [],
   "source": [
    "keystroke_augmenter = augmenty.load(\n",
    "    \"keystroke_error.v1\", keyboard=\"en_qwerty.v1\", level=0.05\n",
    ")  # 5% if characters\n",
    "\n",
    "keystroke_augmenter = augmenty.set_doc_level(\n",
    "    keystroke_augmenter, level=0.5\n",
    ")  # 50% of texts"
   ]
  },
  {
   "cell_type": "code",
   "execution_count": 10,
   "metadata": {},
   "outputs": [
    {
     "name": "stdout",
     "output_type": "stream",
     "text": [
      "Aug,enty is a wonxerful tool for augmentation.\n",
      "Augmentatlon is a wonderful yool for obtaib8ng higher performance on lihited dwta.\n",
      "You can also use it to see how robust your model is to changes.\n"
     ]
    }
   ],
   "source": [
    "texts = [\n",
    "    \"Augmenty is a wonderful tool for augmentation.\",\n",
    "    \"Augmentation is a wonderful tool for obtaining higher performance on limited data.\",\n",
    "    \"You can also use it to see how robust your model is to changes.\",\n",
    "]\n",
    "\n",
    "augmented_texts = augmenty.texts(texts, augmenter=keystroke_augmenter, nlp=nlp)\n",
    "\n",
    "for text in augmented_texts:\n",
    "    print(text)"
   ]
  },
  {
   "cell_type": "markdown",
   "metadata": {},
   "source": [
    "Similarly one might wish the augment to instead of simply yielding the augmented example also yield the original, such that the trained model always see the actual data."
   ]
  },
  {
   "cell_type": "code",
   "execution_count": 12,
   "metadata": {},
   "outputs": [
    {
     "name": "stdout",
     "output_type": "stream",
     "text": [
      "Augmenty a is tool wonderful augmentation for.\n",
      "Augmenty is a wonderful tool for augmentation.\n",
      "is Augmentation wonderful a tool for obtaining higher performance on data limited.\n",
      "Augmentation is a wonderful tool for obtaining higher performance on limited data.\n",
      "You can also use it to see robust how model your is to changes.\n",
      "You can also use it to see how robust your model is to changes.\n"
     ]
    }
   ],
   "source": [
    "token_swap_augmenter = augmenty.load(\"token_swap.v1\", level=0.20)\n",
    "token_swap_augmenter = augmenty.yield_original(\n",
    "    token_swap_augmenter\n",
    ")  # yield both the augmented and original example\n",
    "\n",
    "augmented_texts = augmenty.texts(texts, augmenter=token_swap_augmenter, nlp=nlp)\n",
    "\n",
    "for text in augmented_texts:\n",
    "    print(text)"
   ]
  },
  {
   "cell_type": "markdown",
   "metadata": {},
   "source": [
    "# Applying augmentation to Examples or a Corpus\n",
    "Examples consists of two docs, one containing the predictions of the model, the other containing the gold labelled document. For this example we will load the DaNE dataset. DaNE includes the Danish dependency treebank additionally tagged for named entities. Here we will use synonym replacement to augment a corpus.\n",
    "\n",
    "```python\n",
    "from dacy import datasets\n",
    "\n",
    "train, dev, test = datasets.dane(splits=[\"train\", \"dev\", \"test\"])\n",
    "\n",
    "from spacy.lang.da import Danish\n",
    "\n",
    "nlp_da = Danish()\n",
    "\n",
    "synonym_augmenter = augmenty.load(\"wordnet_synonym.v1\", level=0.2, lang=\"da\")\n",
    "augmented_corpus = [\n",
    "    e for example in test(nlp_da) for e in synonym_augmenter(nlp_da, example)\n",
    "]\n",
    "```"
   ]
  },
  {
   "cell_type": "markdown",
   "metadata": {},
   "source": [
    "# Creating and Contributing Augmenters\n",
    "\n",
    "After using augmenty you might want to create and contribute an augmenter. Most augmenters can be created based on already existing augmenters. For instance the augmenter `per_replace.v1`, which replaces names in a text is a spacial case of the augmenter `ents_replace.v1` with better handling of first and last names. If you want to create an augmenter from scratch following spaCy's [guide](https://spacy.io/usage/training#data-augmentation-custom) on creating custom augmenters is a good start. You can always use augmenters from augmenty as inspiration as well. If you find yourself in troubles feel free to ask in the [augmenty forums](missing). \n",
    "\n",
    "When you are satisfied with your augmenter feel free submit a [pull request](https://github.com/KennethEnevoldsen/augmenty/pulls) to add the augmenter to augmenty."
   ]
  }
 ],
 "metadata": {
  "interpreter": {
   "hash": "c77b9c73b8874f2f013cd1b3ebf59a59050253c4e09ca401f4554fa8b18b29e7"
  },
  "kernelspec": {
   "display_name": "Python 3.8.8 64-bit ('augmenty': virtualenv)",
   "name": "python3"
  },
  "language_info": {
   "codemirror_mode": {
    "name": "ipython",
    "version": 3
   },
   "file_extension": ".py",
   "mimetype": "text/x-python",
   "name": "python",
   "nbconvert_exporter": "python",
   "pygments_lexer": "ipython3",
   "version": "3.8.8"
  },
  "orig_nbformat": 4
 },
 "nbformat": 4,
 "nbformat_minor": 2
}
